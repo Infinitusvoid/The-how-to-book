{
 "cells": [
  {
   "cell_type": "markdown",
   "id": "3d392375",
   "metadata": {},
   "source": [
    "# Notes\n"
   ]
  },
  {
   "cell_type": "markdown",
   "id": "5f6b9f01",
   "metadata": {},
   "source": [
    "The concept it's to write things that you don't know what they are and findout what they are"
   ]
  },
  {
   "cell_type": "markdown",
   "id": "6168a7bc",
   "metadata": {},
   "source": [
    "## Python"
   ]
  },
  {
   "cell_type": "markdown",
   "id": "d6de2205",
   "metadata": {},
   "source": [
    "* How do I get the python version of interpreter ?  \n",
    "https://gist.github.com/Infinitusvoid/43173ded5a21c060e1a50def2aafd7cb"
   ]
  },
  {
   "cell_type": "markdown",
   "id": "f40629ef",
   "metadata": {},
   "source": [
    "## Blender"
   ]
  },
  {
   "cell_type": "markdown",
   "id": "20054ffd",
   "metadata": {},
   "source": [
    "* Blender Python : How to create a cube, add subdiv, create and set material ?  \n",
    "https://gist.github.com/Infinitusvoid/42e2733d752b9e9b305404c94e2a3a03"
   ]
  },
  {
   "cell_type": "markdown",
   "id": "d051e8ae",
   "metadata": {},
   "source": [
    "* Blender Python : How to create two cubes, and apply remesh modifier to merge them ?  \n",
    "https://gist.github.com/Infinitusvoid/9120586ecf167bb218449b96feee999f"
   ]
  }
 ],
 "metadata": {
  "kernelspec": {
   "display_name": "Python 3 (ipykernel)",
   "language": "python",
   "name": "python3"
  },
  "language_info": {
   "codemirror_mode": {
    "name": "ipython",
    "version": 3
   },
   "file_extension": ".py",
   "mimetype": "text/x-python",
   "name": "python",
   "nbconvert_exporter": "python",
   "pygments_lexer": "ipython3",
   "version": "3.10.12"
  }
 },
 "nbformat": 4,
 "nbformat_minor": 5
}
