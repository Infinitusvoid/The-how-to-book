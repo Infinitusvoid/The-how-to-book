{
 "cells": [
  {
   "cell_type": "markdown",
   "id": "3d392375",
   "metadata": {},
   "source": [
    "# The how to book\n"
   ]
  },
  {
   "cell_type": "markdown",
   "id": "5f6b9f01",
   "metadata": {},
   "source": [
    "The concept it's to write things that you don't know what they are and findout what they are"
   ]
  },
  {
   "cell_type": "markdown",
   "id": "6168a7bc",
   "metadata": {},
   "source": [
    "## Python"
   ]
  },
  {
   "cell_type": "markdown",
   "id": "d6de2205",
   "metadata": {},
   "source": [
    "* How do I get the python version of interpreter ?  \n",
    "https://gist.github.com/Infinitusvoid/43173ded5a21c060e1a50def2aafd7cb"
   ]
  },
  {
   "cell_type": "markdown",
   "id": "5ec430f8",
   "metadata": {},
   "source": [
    "* Python : How to load and import code form file ?  \n",
    "https://gist.github.com/Infinitusvoid/bafe6a7249f68f287b6c8db319c41190"
   ]
  },
  {
   "cell_type": "markdown",
   "id": "f40629ef",
   "metadata": {},
   "source": [
    "## Python Blender "
   ]
  },
  {
   "cell_type": "markdown",
   "id": "20054ffd",
   "metadata": {},
   "source": [
    "* Blender Python : How to create a cube, add subdiv, create and set material ?  \n",
    "https://gist.github.com/Infinitusvoid/42e2733d752b9e9b305404c94e2a3a03"
   ]
  },
  {
   "cell_type": "markdown",
   "id": "d051e8ae",
   "metadata": {},
   "source": [
    "* Blender Python : How to create two cubes, and apply remesh modifier to merge them ?  \n",
    "https://gist.github.com/Infinitusvoid/9120586ecf167bb218449b96feee999f"
   ]
  },
  {
   "cell_type": "markdown",
   "id": "e64f1296",
   "metadata": {},
   "source": [
    "## Python PyTorch"
   ]
  },
  {
   "cell_type": "markdown",
   "id": "c0f986ce",
   "metadata": {},
   "source": [
    "* PyTorch : How to get to get the PyTorch versions ?  \n",
    "https://gist.github.com/Infinitusvoid/a35eeec4b37ff042e609b8dfcef8c7c1"
   ]
  },
  {
   "cell_type": "markdown",
   "id": "15cde193",
   "metadata": {},
   "source": [
    "* PyTorch : How to convert tensor to numpy array, and back ?  \n",
    "https://gist.github.com/Infinitusvoid/0b4e2ca92b625d3659cf08c0e35fd716"
   ]
  },
  {
   "cell_type": "markdown",
   "id": "39dc84fa",
   "metadata": {},
   "source": [
    "* PyTorch : How to check if cuda is available ?  \n",
    "https://gist.github.com/Infinitusvoid/76ec68a674e5aaf6e417523d5e1872d7"
   ]
  },
  {
   "cell_type": "markdown",
   "id": "42276c87",
   "metadata": {},
   "source": [
    "## C++"
   ]
  },
  {
   "cell_type": "markdown",
   "id": "bde7976b",
   "metadata": {},
   "source": [
    "* C++ : How to generate a random int between min max ?  \n",
    "https://gist.github.com/Infinitusvoid/23234d28e4bf9751f46877b4a3ccc9d7"
   ]
  },
  {
   "cell_type": "markdown",
   "id": "7da5fb8a",
   "metadata": {},
   "source": [
    "* C++20 : How to execute python from Cpp ?  \n",
    "https://gist.github.com/Infinitusvoid/f252d5f8334ee0f384a5e548c5ecdad9"
   ]
  }
 ],
 "metadata": {
  "kernelspec": {
   "display_name": "Python 3 (ipykernel)",
   "language": "python",
   "name": "python3"
  },
  "language_info": {
   "codemirror_mode": {
    "name": "ipython",
    "version": 3
   },
   "file_extension": ".py",
   "mimetype": "text/x-python",
   "name": "python",
   "nbconvert_exporter": "python",
   "pygments_lexer": "ipython3",
   "version": "3.10.12"
  }
 },
 "nbformat": 4,
 "nbformat_minor": 5
}
